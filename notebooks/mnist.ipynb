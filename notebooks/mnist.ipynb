{
 "cells": [
  {
   "cell_type": "markdown",
   "id": "779422ec",
   "metadata": {},
   "source": [
    "# Diffusion with boundary condition on the MNIST \n",
    "\n",
    "This notebook aims to demonstrate that tangent diffusion with boundary conditions\n",
    "on the observed layer yields a generative model. \n",
    "\n",
    "## 1 - Load the MNIST dataset"
   ]
  },
  {
   "cell_type": "code",
   "execution_count": 2,
   "id": "0e799117",
   "metadata": {},
   "outputs": [
    {
     "data": {
      "image/png": "[encoded data removed]",
      "text/plain": [
       "<PIL.Image.Image image mode=L size=28x28 at 0x7FF5887FCC70>"
      ]
     },
     "execution_count": 2,
     "metadata": {},
     "output_type": "execute_result"
    },
    {
     "data": {
      "image/png": "[encoded data removed]",
      "text/plain": [
       "<Figure size 432x288 with 1 Axes>"
      ]
     },
     "metadata": {
      "needs_background": "light"
     },
     "output_type": "display_data"
    }
   ],
   "source": [
    "from torchvision.datasets import MNIST\n",
    "import torch\n",
    "import matplotlib.pyplot as plt\n",
    "from PIL import Image\n",
    "\n",
    "mnist = MNIST(\"../datasets\")\n",
    "x, y  = mnist[0]\n",
    "plt.imshow(x)\n",
    "x"
   ]
  },
  {
   "cell_type": "markdown",
   "id": "3a7e1f86",
   "metadata": {},
   "source": [
    "## 2 - Define a layered system of binary variables\n",
    "\n",
    "We first define a small function to return index pairs between convolutional layers."
   ]
  },
  {
   "cell_type": "code",
   "execution_count": 3,
   "id": "896c2ee0",
   "metadata": {},
   "outputs": [],
   "source": [
    "from itertools import product\n",
    "\n",
    "# Convolutional layer connections \n",
    "\n",
    "def convlayer(sizeX, sizeY=None, radius=1):\n",
    "    sizeY = sizeY if sizeY else sizeX\n",
    "    edges = []\n",
    "    k = sizeX / sizeY\n",
    "    r = radius if radius else k\n",
    "    def ball(x, bound):\n",
    "        return range(int(max(x - r, 0)), int(min(x + r + 1, bound)))\n",
    "    for i in range(sizeY ** 2):\n",
    "        y0, y1 = divmod(i, sizeY)\n",
    "        edges += [[i, a * sizeX + b] for a in ball(k * y0, sizeX)\\\n",
    "                                     for b in ball(k * y1, sizeX)]\n",
    "    return edges"
   ]
  },
  {
   "cell_type": "markdown",
   "id": "948bb34e",
   "metadata": {},
   "source": [
    "Next we can map layer sizes to a set of Domain keys like so:"
   ]
  },
  {
   "cell_type": "code",
   "execution_count": 4,
   "id": "d045d2ac",
   "metadata": {},
   "outputs": [],
   "source": [
    "from topos import System\n",
    "\n",
    "# Vertices (atoms - neurons)\n",
    "sizes  = {'x' : 28, \n",
    "          'y' : 14, \n",
    "          'z' : 9}\n",
    "\n",
    "layers = {k: [f\"{k}{i}\" for i in range(n**2)]\\\n",
    "             for k, n in sizes.items()}\n",
    "\n",
    "nodes = [n for lk in layers.values() for n in lk]\n",
    "\n",
    "\n",
    "# Edges (interactions - synapses)\n",
    "rs = {('x', 'y') : 1, \n",
    "      ('y', 'z') : 2}\n",
    "\n",
    "convs = {k: convlayer(sizes[k[0]], sizes[k[1]], r)\\\n",
    "            for k, r in rs.items()}\n",
    "\n",
    "\n",
    "edges = [f\"{k[0]}{i}:{k[1]}{j}\" for k, es in convs.items()\\\n",
    "                                for i, j in es]"
   ]
  },
  {
   "cell_type": "code",
   "execution_count": 5,
   "id": "021dba93",
   "metadata": {},
   "outputs": [
    {
     "name": "stdout",
     "output_type": "stream",
     "text": [
      "> Computing system operators...\n",
      "rank\t: 1\n",
      "sizes\t: [15570, 9054]\n"
     ]
    }
   ],
   "source": [
    "\"\"\"System creation: may take some time! \"\"\"\n",
    "print(\"> Computing system operators...\")\n",
    "K = System(nodes + edges, degree=1)\n",
    "print(f\"rank\\t: {K.rank}\")\n",
    "print(f\"sizes\\t: {[Ki.size for Ki in K.grades]}\")"
   ]
  },
  {
   "cell_type": "markdown",
   "id": "0d8370d4",
   "metadata": {},
   "source": [
    "## 3 - Consistent beliefs \n",
    "\n",
    "The state of our network is a collection of beliefs $(p_\\alpha) \\in A^*_0(K)$ where $p_\\alpha$ is a joint probability density on the microstate of atoms inside $\\alpha$ for every $\\alpha \\in K$.\n",
    "\n",
    "Belief propagation is a non-linear algorithm attempting to project $p$ on the submanifold $\\Gamma(K)$ of \n",
    "__consistent__ beliefs, defined by the equations:\n",
    "\n",
    "$$ p_\\beta(x_\\beta) = \\sum_{y \\in E_{\\alpha \\setminus \\beta}} p_\\alpha(x_\\beta, y) \\qquad\n",
    "\\mathrm{for\\;all} \\; \\beta \\subseteq \\alpha \\; \\mathrm{in} \\; K$$\n",
    "\n",
    "This version of BP, described in [[1]](#references), makes use of a time step $dt \\leq 1$ to regularise diffusion, acting as exponent of messages. A multiplicative Möbius inversion has also been applied to messages. "
   ]
  },
  {
   "cell_type": "code",
   "execution_count": 6,
   "id": "208a02fc",
   "metadata": {},
   "outputs": [],
   "source": [
    "# zeta-conjugate of the divergence, acting on local hamiltonians U.\n",
    "div  = K.zeta[0] @ K.delta[1] @ K.mu[1]"
   ]
  },
  {
   "cell_type": "code",
   "execution_count": 7,
   "id": "95a0a1a7",
   "metadata": {},
   "outputs": [],
   "source": [
    "def BP(p, dt=0.8, nit=20):\n",
    "    U = K._ln(p)\n",
    "    dt_div = dt * div\n",
    "    for i in range(nit):\n",
    "        U -= div(K.Deff(U))\n",
    "        U -= K.freenrj(U)\n",
    "    p1 = K.gibbs(U)\n",
    "    return p1"
   ]
  },
  {
   "cell_type": "code",
   "execution_count": 8,
   "id": "e3adf614",
   "metadata": {
    "scrolled": true
   },
   "outputs": [
    {
     "name": "stdout",
     "output_type": "stream",
     "text": [
      "> Initialising from normally sampled potentials u\n",
      "p = (e- / Σ e-)(ζ u)\n",
      "\n",
      "> BP\n",
      "d(p0).norm() == 4e+00\n",
      "\n",
      "d(p1).norm() == 3e-06\n"
     ]
    }
   ],
   "source": [
    "print(\"> Initialising from normally sampled potentials u\")\n",
    "p = K.gibbs(0.1 * K[0].randn())\n",
    "print(f\"p = {K.gibbs}({K.zeta} u)\\n\")\n",
    "\n",
    "print(\"> BP\")\n",
    "print(f\"d(p0).norm() == {K.d(p).norm():.0e}\")\n",
    "p = BP(p)\n",
    "print(f\"\\nd(p1).norm() == {K.d(p).norm():.0e}\")"
   ]
  },
  {
   "cell_type": "markdown",
   "id": "4bf95876",
   "metadata": {},
   "source": [
    "# 3 - Tangent diffusion with boundary conditions"
   ]
  },
  {
   "cell_type": "markdown",
   "id": "52eda030",
   "metadata": {},
   "source": [
    "Every image defines a collection of local magnetizations $q_i \\in {\\rm Prob}(\\{ \\pm 1 \\})$ for $i \\in K_{in}$. Batches of images also define local magnetizations $q_i$ by convex combination. To $q$ we associate the boundary observable $V_{x}$: \n",
    "\n",
    "$$ V_{x:i}(\\sigma_i) = \\frac {q_i(\\sigma_i)} {p_i(\\sigma_i)} \\qquad {\\rm for}\\; i \\in K_{x}$$\n"
   ]
  },
  {
   "cell_type": "code",
   "execution_count": 85,
   "id": "1f62deb6",
   "metadata": {},
   "outputs": [
    {
     "data": {
      "text/plain": [
       "<matplotlib.image.AxesImage at 0x7ff58958ef70>"
      ]
     },
     "execution_count": 85,
     "metadata": {},
     "output_type": "execute_result"
    },
    {
     "data": {
      "image/png": "[encoded data removed]",
      "text/plain": [
       "<Figure size 432x288 with 1 Axes>"
      ]
     },
     "metadata": {
      "needs_background": "light"
     },
     "output_type": "display_data"
    }
   ],
   "source": [
    "def observe(size, out=2):\n",
    "    js = torch.randint(len(mnist), [size])\n",
    "    qs = torch.stack([mnist.data[j] for j in js])\n",
    "    q = qs.sum(dim=[0]).float() / size\n",
    "    q = (1 + q) / 257\n",
    "    if out == 2:\n",
    "        return torch.stack([q, 1 - q]).transpose(0, -1)\n",
    "    elif out == -1: \n",
    "        return 1 - q\n",
    "    else:\n",
    "        return q\n",
    "    \n",
    "q = observe(3, out=1)\n",
    "im = Image.fromarray((255 * q).numpy())\n",
    "plt.imshow(im)"
   ]
  },
  {
   "cell_type": "markdown",
   "id": "c59af112",
   "metadata": {},
   "source": []
  },
  {
   "cell_type": "code",
   "execution_count": 10,
   "id": "5622f214",
   "metadata": {},
   "outputs": [],
   "source": [
    "# Restriction and embedding on input layer\n",
    "Res_X  = K[0].res(layers['x'])\n",
    "J_X    = Res_X.t()\n",
    "X      = Res_X.tgt\n",
    "\n",
    "# Projectors on X and K_int = K - X.\n",
    "P_X    = J_X @ Res_X\n",
    "P_int  = K[0].id - P_X  \n",
    "\n",
    "div_int = K.zeta[0] @ (P_int @ K.delta[1]) @ K.mu[1]\n",
    "\n",
    "def TangentDiffusion(p, V, nit=6, dt=0.8, P_int=P_int, nabla=None):  \n",
    "    \n",
    "    #--- Compute tangent operators ---\n",
    "    if nabla == None:\n",
    "        nabla = K.nabla(p, 0)[0]       # Conditional energy gradients\n",
    "    div_int = K.zeta[0]\\\n",
    "            @ (P_int @ K.delta[1])\\\n",
    "            @ K.mu[1]                # Divergence with boundary condition\n",
    "    \n",
    "    ones = K.ones(0)\n",
    "    pV   = K.ones(0)\n",
    "    flow = dt * div_int @ nabla \n",
    "    \n",
    "    #--- Run ---\n",
    "    for i in range(nit):\n",
    "        V -= flow(V) \n",
    "        V -= K.sums(p * V)\n",
    "        V += ones\n",
    "    return V"
   ]
  },
  {
   "cell_type": "markdown",
   "id": "4abb0f80",
   "metadata": {},
   "source": [
    "Then run diffusion on local evidence:"
   ]
  },
  {
   "cell_type": "code",
   "execution_count": 11,
   "id": "2b78d83b",
   "metadata": {},
   "outputs": [
    {
     "name": "stdout",
     "output_type": "stream",
     "text": [
      "> Tangent BP:\n",
      "∇(V0).norm() = 3e+01\n",
      "∇(V1).norm() = 1e-04\n"
     ]
    }
   ],
   "source": [
    "qx = X.field(observe(10, out=2), degree=0)\n",
    "px = Res_X(p)\n",
    "Vx = K.zeta @ J_X(qx / px)\n",
    "\n",
    "print(f\"> Tangent BP:\")\n",
    "print(f\"\\u2207(V0).norm() = {K.nabla(p, 0)(Vx).norm():.0e}\", end=\"\\n\")\n",
    "V  = TangentDiffusion(p, Vx, nit=20)\n",
    "print(f\"\\u2207(V1).norm() = {K.nabla(p, 0)(V).norm():.0e}\", end=\"\\n\")"
   ]
  },
  {
   "cell_type": "markdown",
   "id": "b9f526d5",
   "metadata": {},
   "source": [
    "## 4 - Updating beliefs from experience\n",
    "\n",
    "From every new evidence we obtain energies $V$ tangent to the consistent manifold by linearised diffusion. \n",
    "These energies approximate conditional probabilities with respect to the state of the boundary:\n",
    "\n",
    "$$ V(\\sigma_\\alpha) \\simeq  p_\\alpha(\\sigma_\\alpha \\,|\\, \\sigma_{X}) $$\n",
    "\n",
    "This allows to update beliefs by $p' = p _\\cdot {\\rm e}^{\\theta V}$ for $\\theta \\in \\mathbb{R+}$, to increase the probability of inner states compatible with the observed states on the boundary."
   ]
  },
  {
   "cell_type": "code",
   "execution_count": 14,
   "id": "3e345e13",
   "metadata": {
    "scrolled": true
   },
   "outputs": [
    {
     "name": "stdout",
     "output_type": "stream",
     "text": [
      "V.norm():\t 2.92e+02\n",
      "d(p).norm():\t 2.10e-03\n"
     ]
    }
   ],
   "source": [
    "theta = 0.05\n",
    "p1 = p * K.exp_(- theta * V)\n",
    "p1 = K.normalise(p1)\n",
    "print(f\"V.norm():\\t {V.norm():.2e}\")\n",
    "print(f\"d(p).norm():\\t {K.d(p1).norm():.2e}\")"
   ]
  },
  {
   "cell_type": "markdown",
   "id": "f9631c33",
   "metadata": {},
   "source": [
    "Est-ce que si $dU = 0$ alors $u_\\alpha = \\mu(U)_\\alpha$ est dans $S_\\alpha$ pour tout $\\alpha$? "
   ]
  },
  {
   "cell_type": "code",
   "execution_count": 15,
   "id": "fd4a9178",
   "metadata": {},
   "outputs": [
    {
     "name": "stdout",
     "output_type": "stream",
     "text": [
      "d(p).norm():\t 3.26e-06\n"
     ]
    }
   ],
   "source": [
    "p1 = BP(p1, nit=12, dt=0.8)\n",
    "print(f\"d(p).norm():\\t {K.d(p1).norm():.2e}\")"
   ]
  },
  {
   "cell_type": "code",
   "execution_count": 53,
   "id": "16c2bc21",
   "metadata": {},
   "outputs": [],
   "source": [
    "def train (p0, nit=5, dt=0.7, batch=6, theta=0.05):\n",
    "    p = 1 * p0\n",
    "    for i in range(nit):\n",
    "        #--- Estimate conditional probabilities\n",
    "        qx = X.field(observe(batch), 0)\n",
    "        Vx = K.zeta[0] @ J_X(qx / Res_X(p))\n",
    "        V  = TangentDiffusion(p, Vx, nit=20, dt=dt)\n",
    "        #--- Update beliefs\n",
    "        p *= K.exp_(- theta * V)\n",
    "        p = K.normalise(p)\n",
    "        p = BP(p, nit=12, dt=dt)\n",
    "        print(\"::\", end=\"\")\n",
    "    return p"
   ]
  },
  {
   "cell_type": "code",
   "execution_count": 54,
   "id": "cd64bb13",
   "metadata": {},
   "outputs": [],
   "source": [
    "ps = [p, p1]"
   ]
  },
  {
   "cell_type": "code",
   "execution_count": 63,
   "id": "146fd5ac",
   "metadata": {},
   "outputs": [
    {
     "name": "stdout",
     "output_type": "stream",
     "text": [
      "::::::::::::::::::::\n",
      "d(p).norm(): 2.96e-06\n"
     ]
    }
   ],
   "source": [
    "ps += [train(ps[-1], 10, batch=1, dt=0.2, theta=0.05)]\n",
    "print(f\"\\nd(p).norm(): {K.d(ps[-1]).norm():.2e}\")"
   ]
  },
  {
   "cell_type": "markdown",
   "id": "ecd15ebb",
   "metadata": {},
   "source": [
    "## 5 - Generating images"
   ]
  },
  {
   "cell_type": "code",
   "execution_count": 78,
   "id": "a37863ee",
   "metadata": {},
   "outputs": [],
   "source": [
    "# Restriction and embedding on the last layer\n",
    "Res_Z  = K[0].res(layers['z'])\n",
    "J_Z    = Res_Z.t()\n",
    "Z      = Res_Z.tgt\n",
    "\n",
    "# Projector on the first layers\n",
    "P_XY = K[0].id - J_Z @ Res_Z\n",
    "\n",
    "def sample(p, g=None, nit=20, dt=0.3, br=0.5):\n",
    "    pz, px = Res_Z(p), Res_X(p)\n",
    "    qz = Z.gibbs(Z._ln(pz) + br * Z.randn(0))\n",
    "    Vz = K.zeta @ J_Z(qz / Res_Z(p))\n",
    "    V = TangentDiffusion(p, Vz, nit=nit, P_int=P_XY, dt=dt)\n",
    "    return px * Res_X(V)\n",
    "\n",
    "def img(qx):\n",
    "    bmp = qx.data[::2].reshape([28, 28]).t().numpy()\n",
    "    return Image.fromarray(255 * bmp)"
   ]
  },
  {
   "cell_type": "code",
   "execution_count": 79,
   "id": "c11d9ca0",
   "metadata": {},
   "outputs": [
    {
     "name": "stdout",
     "output_type": "stream",
     "text": [
      "tensor(25.2374) tensor(25.2374)\n"
     ]
    },
    {
     "data": {
      "text/plain": [
       "<matplotlib.image.AxesImage at 0x7ff5896fcc10>"
      ]
     },
     "execution_count": 79,
     "metadata": {},
     "output_type": "execute_result"
    },
    {
     "data": {
      "image/png": "[encoded data removed]",
      "text/plain": [
       "<Figure size 432x288 with 1 Axes>"
      ]
     },
     "metadata": {
      "needs_background": "light"
     },
     "output_type": "display_data"
    }
   ],
   "source": [
    "qx = sample(ps[-1], br=20)\n",
    "\n",
    "print(qx.norm(), Res_X(ps[-1]).norm())\n",
    "\n",
    "plt.imshow(img(qx), vmin=0, vmax=255)"
   ]
  },
  {
   "cell_type": "code",
   "execution_count": 82,
   "id": "f7fab8c6",
   "metadata": {},
   "outputs": [
    {
     "data": {
      "text/plain": [
       "<matplotlib.image.AxesImage at 0x7ff589801be0>"
      ]
     },
     "execution_count": 82,
     "metadata": {},
     "output_type": "execute_result"
    },
    {
     "data": {
      "image/png": "[encoded data removed]",
      "text/plain": [
       "<Figure size 432x288 with 1 Axes>"
      ]
     },
     "metadata": {
      "needs_background": "light"
     },
     "output_type": "display_data"
    }
   ],
   "source": [
    "px = Res_X(ps[-1])\n",
    "plt.imshow(img(px))"
   ]
  }
 ],
 "metadata": {
  "kernelspec": {
   "display_name": "Python 3 (ipykernel)",
   "language": "python",
   "name": "python3"
  },
  "language_info": {
   "codemirror_mode": {
    "name": "ipython",
    "version": 3
   },
   "file_extension": ".py",
   "mimetype": "text/x-python",
   "name": "python",
   "nbconvert_exporter": "python",
   "pygments_lexer": "ipython3",
   "version": "3.9.7"
  }
 },
 "nbformat": 4,
 "nbformat_minor": 5
}
