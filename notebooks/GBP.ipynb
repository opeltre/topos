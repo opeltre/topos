{
 "cells": [
  {
   "cell_type": "code",
   "execution_count": 149,
   "metadata": {},
   "outputs": [
    {
     "data": {
      "text/plain": [
       "System (j:k:l) (i:k:l) (j:k) (k) (i:k) (k:l) (i:j:k)"
      ]
     },
     "execution_count": 149,
     "metadata": {},
     "output_type": "execute_result"
    }
   ],
   "source": [
    "import torch\n",
    "from system import System\n",
    "from dict import Dict\n",
    "from functional import Functional\n",
    "\n",
    "K = System(('i:j:k', 'j:k:l', 'i:k:l'))\n",
    "K"
   ]
  },
  {
   "cell_type": "code",
   "execution_count": 150,
   "metadata": {},
   "outputs": [],
   "source": [
    "# zeta = sum over subfaces, inverted by mu\n",
    "zeta, mu = K.Zeta[0], K.Mu[0]\n",
    "\n",
    "# differential d and codifferential delta = d*\n",
    "d, delta = K.D[0], K.Delta[1]\n",
    "\n",
    "# effective energy gradient \n",
    "DF = K.Deff[0]"
   ]
  },
  {
   "cell_type": "markdown",
   "metadata": {},
   "source": [
    "The diffusion associated to generalised belief propagation (GBP) acts by:\n",
    "\n",
    "$$ \\dot u = - \\delta \\circ \\zeta \\circ \\mathcal{D} (u)$$"
   ]
  },
  {
   "cell_type": "code",
   "execution_count": 156,
   "metadata": {},
   "outputs": [],
   "source": [
    "def diffusion(D, normalise=False):\n",
    "    Z = zeta\n",
    "    if normalise: \n",
    "        N = Functional({\n",
    "            (a|a): lambda Ua: Ua - K.F[a](Ua) for _, a in K.N[0]\n",
    "        }).curry()\n",
    "        Z = N @ zeta\n",
    "    out = Dict()\n",
    "    out.potential = -1 * delta @ D @ zeta\n",
    "    out.energy = -1 *  zeta @ delta @ D\n",
    "    Phi = -1 * D @ zeta\n",
    "    out.flux = lambda u: lambda phi: Phi(u + delta(phi))\n",
    "    return out\n",
    "\n",
    "# GBP diffusion\n",
    "GBP = diffusion(DF, normalise=True)\n",
    "\n",
    "# Diffusion with Möbius inversion on messages\n",
    "mu1 = K.Mu[1]\n",
    "muGBP = diffusion(mu1 @ DF)"
   ]
  },
  {
   "cell_type": "code",
   "execution_count": 157,
   "metadata": {},
   "outputs": [],
   "source": [
    "Nit = 10\n",
    "def integrate(u0, rate=0.5, N=Nit, diffusion=GBP):\n",
    "    flux = diffusion.flux(u0)\n",
    "    phi = K.zeros(1)\n",
    "    out = Dict({\n",
    "        'phi': [Tensor() for i in range(Nit)],\n",
    "        'dphi': [Tensor() for i in range(Nit)]\n",
    "    })\n",
    "    for t in range(Nit):\n",
    "        dphi = flux(phi)\n",
    "        phi = phi + rate * dphi\n",
    "        out.dphi += [dphi]\n",
    "        out.phi += [phi]\n",
    "    return out\n"
   ]
  },
  {
   "cell_type": "code",
   "execution_count": 165,
   "metadata": {},
   "outputs": [
    {
     "data": {
      "text/plain": [
       "[0, 1, 0, 1, 0, 1]"
      ]
     },
     "execution_count": 165,
     "metadata": {},
     "output_type": "execute_result"
    }
   ],
   "source": [
    "import matplotlib.pyplot as plt"
   ]
  },
  {
   "cell_type": "code",
   "execution_count": 162,
   "metadata": {},
   "outputs": [
    {
     "data": {
      "text/plain": [
       "[<matplotlib.lines.Line2D at 0x7f8752ee9220>]"
      ]
     },
     "execution_count": 162,
     "metadata": {},
     "output_type": "execute_result"
    },
    {
     "data": {
      "image/png": "[encoded data removed]",
      "text/plain": [
       "<Figure size 432x288 with 1 Axes>"
      ]
     },
     "metadata": {
      "needs_background": "light"
     },
     "output_type": "display_data"
    }
   ],
   "source": [
    "u0 = 10 * K.gaussian(0)\n",
    "\n",
    "orbit1 = integrate(u0)\n",
    "orbit2 = integrate(u0, diffusion=muGBP)\n",
    "\n",
    "x = [i for i in range(Nit)]\n",
    "y = [psi.norm() for psi in orbit1.dphi]\n",
    "z = [psi.norm() for psi in orbit2.dphi]\n",
    "plt.plot(x, y, color=\"blue\")\n",
    "plt.plot(x, z, color=\"red\")"
   ]
  },
  {
   "cell_type": "code",
   "execution_count": 170,
   "metadata": {},
   "outputs": [],
   "source": [
    "def convergenceRatio(u0, rate=0.5, N=Nit, diffusion=GBP):\n",
    "    flux = diffusion.flux(u0)\n",
    "    phi = K.zeros(1)\n",
    "    dphi = flux(phi)\n",
    "    DZ = DF @ zeta\n",
    "    D0 = DZ(u + delta(phi))\n",
    "    for t in range(Nit - 1):\n",
    "        phi += rate * dphi\n",
    "        dphi = flux(phi)    \n",
    "    D1 = DZ(u + delta(phi))\n",
    "    return D1.norm()/D0.norm()"
   ]
  },
  {
   "cell_type": "code",
   "execution_count": 181,
   "metadata": {},
   "outputs": [],
   "source": [
    "from time import time \n",
    "import itertools as it\n",
    "\n",
    "table = Dict()\n",
    "rates = [0.1, 0.2, 0.3, 0.4, 0.5, 0.6, 0.7, 0.8]\n",
    "beta = [10]\n",
    "samples = 20"
   ]
  },
  {
   "cell_type": "code",
   "execution_count": 182,
   "metadata": {},
   "outputs": [
    {
     "name": "stdout",
     "output_type": "stream",
     "text": [
      "completed 1600 iterations in 89.29543781280518 ms\n",
      "(0.055809648633003237 ms/it)\n"
     ]
    }
   ],
   "source": [
    "t0 = time()\n",
    "N = len(beta) * len(rates) * Nit * samples\n",
    "\n",
    "for r, b in it.product(rates, beta): \n",
    "    table[(r, b)] = [[], []]\n",
    "    for s in range(samples):\n",
    "        u = b * K.gaussian(0)\n",
    "        table[(r, b)][0] += [float(convergenceRatio(u, rate=r, N=10, diffusion=GBP))]\n",
    "        table[(r, b)][1] += [float(convergenceRatio(u, rate=r, N=10, diffusion=muGBP))]\n",
    "        \n",
    "t1 = time()\n",
    "print(f\"completed {N} iterations in {t1 - t0} s\\n({(t1-t0) * 1000/N} ms/it)\")"
   ]
  },
  {
   "cell_type": "code",
   "execution_count": 183,
   "metadata": {},
   "outputs": [
    {
     "data": {
      "text/plain": [
       "Dict {\n",
       "(0.1, 10) :\n",
       " [[inf, nan, 0.04358868673443794, 0.08636733889579773, 0.1094738095998764, 0.1442776620388031, 0.14525574445724487, 0.05032978951931, 0.09571118652820587, 0.13147374987602234, 0.08738991618156433, 0.10699541121721268, 0.11599120497703552, nan, nan, 0.1583564132452011, 0.1502697616815567, 0.10645894706249237, 0.1356547474861145, 0.09901322424411774], [0.07449230551719666, 0.05053725838661194, 0.06494037061929703, 0.11738543212413788, 0.0670117512345314, 0.05429690331220627, 0.054733745753765106, 0.030095215886831284, 0.035359885543584824, 0.04497769474983215, 0.04668306186795235, 0.047695375978946686, 0.10616730898618698, 0.08807498216629028, 0.04468964785337448, 0.08037953823804855, 0.05010607838630676, 0.06315556168556213, 0.03281337395310402, 0.054489556699991226]]\n",
       "\n",
       "(0.2, 10) :\n",
       " [[0.016049614176154137, 0.030698053538799286, nan, nan, 0.024376781657338142, nan, nan, 0.023641932755708694, nan, nan, nan, nan, nan, nan, nan, nan, 0.05798473209142685, 0.03543952479958534, 0.0451459102332592, nan], [0.004974722396582365, 0.003195387776941061, 0.0018994385609403253, 0.011762241832911968, 0.003182498039677739, 0.0016386120114475489, 0.0074247620068490505, 0.006916935555636883, 0.010684747248888016, 0.011804653331637383, 0.003536084434017539, 0.00418258598074317, 0.010356220416724682, 0.009653950110077858, 0.006992421578615904, 0.006865097675472498, 0.006841065362095833, 0.010361990891397, 0.00860234722495079, 0.005989415105432272]]\n",
       "\n",
       "(0.3, 10) :\n",
       " [[0.10875288397073746, nan, nan, nan, nan, nan, 0.1141846552491188, nan, nan, nan, 0.10540271550416946, 0.1001819521188736, 0.20557625591754913, 0.11512812972068787, 0.13472168147563934, 0.10088710486888885, nan, 0.09933282434940338, nan, nan], [0.001064844778738916, 0.00020600650168489665, 0.00025342090521007776, 0.0005574680981226265, 0.0006920156301930547, 0.0014180000871419907, 0.0029774124268442392, 0.0005758817424066365, 0.0006054804543964565, 0.002043965505436063, 0.0037790436763316393, 0.00237635662779212, 0.0007314712856896222, 0.0006312068435363472, 0.000621858867816627, 0.0030451163183897734, 0.0011424262775108218, 0.001907645259052515, 0.0006716835196129978, 0.0002756004687398672]]\n",
       "\n",
       "(0.4, 10) :\n",
       " [[nan, nan, 0.32987478375434875, nan, 0.6256635189056396, nan, nan, 0.2102825790643692, nan, nan, nan, nan, 0.22523783147335052, nan, nan, 0.3463371694087982, 0.3341296315193176, nan, 0.44607821106910706, 0.421850323677063], [0.000980442389845848, 0.0009455727995373309, 0.003028432372957468, 0.0006236833869479597, 0.004279182292521, 0.0017410236177965999, 0.001119123655371368, 0.0038730825763195753, 0.0015581274637952447, 0.0003589229891076684, 0.0005801282823085785, 0.0016277830582112074, 0.0011869247537106276, 0.0005535314558073878, 0.0003014037210959941, 0.0024983822368085384, 0.003613173495978117, 0.0009245810215361416, 0.0018119611777365208, 0.0014108273899182677]]\n",
       "\n",
       "(0.5, 10) :\n",
       " [[nan, nan, nan, nan, nan, nan, nan, nan, nan, nan, nan, nan, nan, nan, nan, nan, nan, nan, nan, nan], [0.0013839886523783207, 0.0013126512058079243, 0.0025350647047162056, 0.0008694581338204443, 0.0010267742909491062, 0.0013713191729038954, 0.0005473080673255026, 0.002178765134885907, 0.0023681577295064926, 0.0020856319461017847, 0.0019960016943514347, 0.001340289250947535, 0.00218325131572783, 0.0012882379814982414, 0.001444054301828146, 0.0009240987128578126, 0.0012656917097046971, 0.00552748516201973, 0.000909398659132421, 0.0013092431472614408]]\n",
       "\n",
       "(0.6, 10) :\n",
       " [[nan, nan, nan, nan, nan, nan, nan, nan, nan, nan, nan, nan, nan, nan, nan, nan, nan, nan, nan, nan], [0.007238084450364113, 0.006567307282239199, 0.004921451210975647, 0.008217918686568737, 0.014131918549537659, 0.00903671607375145, 0.008028990589082241, 0.010206557810306549, 0.019811568781733513, 0.006628076545894146, 0.009773943573236465, 0.008441301062703133, 0.008112868294119835, 0.004257191903889179, 0.013402040116488934, 0.008433517068624496, 0.008308541029691696, 0.006588082294911146, 0.009006038308143616, 0.004544698633253574]]\n",
       "\n",
       "(0.7, 10) :\n",
       " [[nan, nan, nan, nan, nan, nan, nan, nan, nan, nan, nan, nan, nan, nan, nan, nan, nan, nan, nan, nan], [2.629098415374756, 2.2369277477264404, 1.2971247434616089, 1.6089715957641602, 1.455687403678894, 0.9837165474891663, 1.2871367931365967, 1.8810560703277588, 1.570935845375061, 0.4340340495109558, 0.9773393273353577, 0.9787305593490601, 1.9097976684570312, nan, 1.8508509397506714, 2.00240421295166, 0.8489401340484619, 3.125962018966675, 3.4036192893981934, 1.5723246335983276]]\n",
       "\n",
       "(0.8, 10) :\n",
       " [[nan, nan, nan, nan, nan, nan, nan, nan, nan, nan, nan, nan, nan, nan, nan, nan, nan, nan, nan, nan], [nan, nan, nan, nan, nan, nan, nan, nan, nan, nan, nan, nan, nan, nan, nan, nan, nan, nan, nan, nan]]\n",
       "\n",
       "}"
      ]
     },
     "execution_count": 183,
     "metadata": {},
     "output_type": "execute_result"
    }
   ],
   "source": [
    "table"
   ]
  },
  {
   "cell_type": "code",
   "execution_count": 184,
   "metadata": {},
   "outputs": [],
   "source": [
    "import csv\n",
    "with open('convergence.csv', 'w', newline='') as file:\n",
    "    writer = csv.writer(file)\n",
    "    for r in rates: \n",
    "        for b in beta: \n",
    "            ratio = table[(r, b)]\n",
    "            writer.writerow(\n",
    "                [r, b, 1/b] \\\n",
    "                + [float(r) for r in ratio[0]] + [''] + [float(r) for r in ratio[1]] )\n",
    "        "
   ]
  },
  {
   "cell_type": "code",
   "execution_count": null,
   "metadata": {},
   "outputs": [],
   "source": []
  }
 ],
 "metadata": {
  "kernelspec": {
   "display_name": "Python 3",
   "language": "python",
   "name": "python3"
  },
  "language_info": {
   "codemirror_mode": {
    "name": "ipython",
    "version": 3
   },
   "file_extension": ".py",
   "mimetype": "text/x-python",
   "name": "python",
   "nbconvert_exporter": "python",
   "pygments_lexer": "ipython3",
   "version": "3.9.1"
  }
 },
 "nbformat": 4,
 "nbformat_minor": 4
}
